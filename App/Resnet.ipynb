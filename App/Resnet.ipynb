{
 "cells": [
  {
   "cell_type": "code",
   "execution_count": 25,
   "id": "7a7cf053-1dd1-4f66-adb0-2245e92ea002",
   "metadata": {},
   "outputs": [],
   "source": [
    "import numpy as np \n",
    "import pandas as pd\n",
    "\n",
    "from keras.models import Sequential\n",
    "from keras.layers  import Convolution2D\n",
    "from keras.layers  import Flatten\n",
    "from keras.layers  import Dense\n",
    "from keras.layers  import MaxPooling2D\n",
    "\n",
    "import os;"
   ]
  },
  {
   "cell_type": "code",
   "execution_count": 17,
   "id": "c578146a-0aad-42b8-9e6d-0a9e4545e80a",
   "metadata": {},
   "outputs": [],
   "source": [
    "train = 'Dataset/Train/'\n",
    "test='Dataset/Test/'"
   ]
  },
  {
   "cell_type": "code",
   "execution_count": 18,
   "id": "b23d2f2d-74e6-4821-9156-e49078151e98",
   "metadata": {},
   "outputs": [
    {
     "name": "stdout",
     "output_type": "stream",
     "text": [
      "Model: \"sequential_1\"\n",
      "_________________________________________________________________\n",
      " Layer (type)                Output Shape              Param #   \n",
      "=================================================================\n",
      " conv2d_2 (Conv2D)           (None, 62, 62, 32)        896       \n",
      "                                                                 \n",
      " max_pooling2d_2 (MaxPoolin  (None, 31, 31, 32)        0         \n",
      " g2D)                                                            \n",
      "                                                                 \n",
      " conv2d_3 (Conv2D)           (None, 29, 29, 32)        9248      \n",
      "                                                                 \n",
      " max_pooling2d_3 (MaxPoolin  (None, 14, 14, 32)        0         \n",
      " g2D)                                                            \n",
      "                                                                 \n",
      " flatten_1 (Flatten)         (None, 6272)              0         \n",
      "                                                                 \n",
      " dense_6 (Dense)             (None, 32)                200736    \n",
      "                                                                 \n",
      " dense_7 (Dense)             (None, 64)                2112      \n",
      "                                                                 \n",
      " dense_8 (Dense)             (None, 128)               8320      \n",
      "                                                                 \n",
      " dense_9 (Dense)             (None, 256)               33024     \n",
      "                                                                 \n",
      " dense_10 (Dense)            (None, 256)               65792     \n",
      "                                                                 \n",
      " dense_11 (Dense)            (None, 6)                 1542      \n",
      "                                                                 \n",
      "=================================================================\n",
      "Total params: 321670 (1.23 MB)\n",
      "Trainable params: 321670 (1.23 MB)\n",
      "Non-trainable params: 0 (0.00 Byte)\n",
      "_________________________________________________________________\n"
     ]
    }
   ],
   "source": [
    "classifier = Sequential()\n",
    "classifier.add(Convolution2D(32,(3,3),input_shape = (64,64,3),activation = 'relu'))\n",
    "classifier.add(MaxPooling2D(pool_size = (2,2)))\n",
    "classifier.add(Convolution2D(32,(3,3),input_shape = (64,64,3),activation = 'relu'))\n",
    "classifier.add(MaxPooling2D(pool_size = (2,2)))\n",
    "\n",
    "classifier.add(Flatten())\n",
    "\n",
    "classifier.add(Dense(units=32,activation='relu'))\n",
    "classifier.add(Dense(units=64,activation='relu'))\n",
    "classifier.add(Dense(units=128,activation='relu'))\n",
    "classifier.add(Dense(units=256,activation='relu'))\n",
    "classifier.add(Dense(units=256,activation='relu'))\n",
    "classifier.add(Dense(units=6,activation='softmax'))\n",
    "classifier.summary()"
   ]
  },
  {
   "cell_type": "code",
   "execution_count": 19,
   "id": "6b2722cc-3404-4410-ac55-af6ac28adea0",
   "metadata": {},
   "outputs": [
    {
     "name": "stdout",
     "output_type": "stream",
     "text": [
      "\n",
      "Training..\n",
      "Found 10901 images belonging to 6 classes.\n",
      "Found 2698 images belonging to 6 classes.\n"
     ]
    }
   ],
   "source": [
    "classifier.compile(optimizer='adam',loss='categorical_crossentropy',metrics=['accuracy'])\n",
    "\n",
    "from keras.preprocessing.image import ImageDataGenerator\n",
    "train_datagen = ImageDataGenerator(rescale=1./255,\n",
    "                                  shear_range = 0.2,\n",
    "                                  zoom_range=0.2,\n",
    "                                  horizontal_flip=True)\n",
    "\n",
    "test_datagen = ImageDataGenerator(rescale = 1./255)\n",
    "print(\"\\nTraining..\")\n",
    "training_set = train_datagen.flow_from_directory(train,\n",
    "                                                target_size=(64,64),\n",
    "                                                batch_size=12,\n",
    "                                                class_mode='categorical')\n",
    "test_set = test_datagen.flow_from_directory(test,\n",
    "                                           target_size=(64,64),\n",
    "                                           batch_size=12,\n",
    "                                           class_mode='categorical')"
   ]
  },
  {
   "cell_type": "code",
   "execution_count": null,
   "id": "ff95e027-a6d5-4abd-8a42-43e10390a12f",
   "metadata": {},
   "outputs": [],
   "source": [
    "Model = classifier.fit(training_set,\n",
    "                      steps_per_epoch=100,\n",
    "                      epochs=50,\n",
    "                      validation_data=test_set,\n",
    "                      validation_steps=100)"
   ]
  },
  {
   "cell_type": "code",
   "execution_count": 21,
   "id": "a7557d4b-d35c-4578-99c5-49ba34bd3c31",
   "metadata": {},
   "outputs": [
    {
     "name": "stdout",
     "output_type": "stream",
     "text": [
      "Model: \"sequential_1\"\n",
      "_________________________________________________________________\n",
      " Layer (type)                Output Shape              Param #   \n",
      "=================================================================\n",
      " conv2d_2 (Conv2D)           (None, 62, 62, 32)        896       \n",
      "                                                                 \n",
      " max_pooling2d_2 (MaxPoolin  (None, 31, 31, 32)        0         \n",
      " g2D)                                                            \n",
      "                                                                 \n",
      " conv2d_3 (Conv2D)           (None, 29, 29, 32)        9248      \n",
      "                                                                 \n",
      " max_pooling2d_3 (MaxPoolin  (None, 14, 14, 32)        0         \n",
      " g2D)                                                            \n",
      "                                                                 \n",
      " flatten_1 (Flatten)         (None, 6272)              0         \n",
      "                                                                 \n",
      " dense_6 (Dense)             (None, 32)                200736    \n",
      "                                                                 \n",
      " dense_7 (Dense)             (None, 64)                2112      \n",
      "                                                                 \n",
      " dense_8 (Dense)             (None, 128)               8320      \n",
      "                                                                 \n",
      " dense_9 (Dense)             (None, 256)               33024     \n",
      "                                                                 \n",
      " dense_10 (Dense)            (None, 256)               65792     \n",
      "                                                                 \n",
      " dense_11 (Dense)            (None, 6)                 1542      \n",
      "                                                                 \n",
      "=================================================================\n",
      "Total params: 321670 (1.23 MB)\n",
      "Trainable params: 321670 (1.23 MB)\n",
      "Non-trainable params: 0 (0.00 Byte)\n",
      "_________________________________________________________________\n"
     ]
    }
   ],
   "source": [
    "from keras.models import load_model\n",
    "mod = load_model('fresh1.h5')\n",
    "mod.summary()"
   ]
  },
  {
   "cell_type": "code",
   "execution_count": 24,
   "id": "673f4a5f-dbd8-4e40-9289-a576e458ab30",
   "metadata": {},
   "outputs": [
    {
     "data": {
      "image/png": "[encoded data removed]",
      "text/plain": [
       "<Figure size 640x480 with 1 Axes>"
      ]
     },
     "metadata": {},
     "output_type": "display_data"
    },
    {
     "name": "stdout",
     "output_type": "stream",
     "text": [
      "1/1 [==============================] - 0s 25ms/step\n",
      "result:  [[0. 0. 1. 0. 0. 0.]]\n",
      "the prediction is  Fresh Orange\n"
     ]
    }
   ],
   "source": [
    "from tensorflow.keras.utils import img_to_array,  load_img\n",
    "\n",
    "classes = ['Fresh Apple','Fresh Banana','Fresh Orange','Rotten Apple','Rotten Banana','Rotten Orange']\n",
    "#classes = ['Fresh','Fresh','Fresh','Rotten','Rotten','Rotten']\n",
    "\n",
    "filename=\"Dataset/Train/rottenapples/rotated_by_15_Screen Shot 2018-06-07 at 2.37.43 PM.png\"\n",
    "test_image = load_img(filename,target_size=(64,64))\n",
    "import matplotlib.pyplot as plt\n",
    "plt.subplot(1, 2, 1)\n",
    "plt.imshow(test_image)\n",
    "plt.axis(\"on\")\n",
    "plt.show()\n",
    "test_image = img_to_array(test_image)\n",
    "test_image = np.expand_dims(test_image, axis = 0)\n",
    "result = mod.predict(test_image)\n",
    "print(\"result: \",result)\n",
    "result1 = result[0]\n",
    "\n",
    "for i in range(6):\n",
    "            if result1[i] == 1.:\n",
    "                break;\n",
    "prediction = classes[i]\n",
    "print(\"the prediction is \", prediction)        "
   ]
  },
  {
   "cell_type": "code",
   "execution_count": null,
   "id": "f486d5d6-da30-49dc-b3fc-3eff8ef96641",
   "metadata": {},
   "outputs": [],
   "source": []
  },
  {
   "cell_type": "code",
   "execution_count": null,
   "id": "5e137266-6d33-4c02-a4cc-d3dea181eec1",
   "metadata": {},
   "outputs": [],
   "source": []
  }
 ],
 "metadata": {
  "kernelspec": {
   "display_name": "Python 3 (ipykernel)",
   "language": "python",
   "name": "python3"
  },
  "language_info": {
   "codemirror_mode": {
    "name": "ipython",
    "version": 3
   },
   "file_extension": ".py",
   "mimetype": "text/x-python",
   "name": "python",
   "nbconvert_exporter": "python",
   "pygments_lexer": "ipython3",
   "version": "3.8.2"
  }
 },
 "nbformat": 4,
 "nbformat_minor": 5
}
